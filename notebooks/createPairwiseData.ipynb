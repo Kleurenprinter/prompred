{
 "cells": [
  {
   "cell_type": "code",
   "execution_count": 25,
   "metadata": {
    "collapsed": true
   },
   "outputs": [],
   "source": [
    "import matplotlib\n",
    "import numpy as np\n",
    "import math\n",
    "import itertools\n",
    "import sklearn\n",
    "import pydotplus\n",
    "import warnings\n",
    "import mysql.connector as myconnect\n",
    "import pandas as pd\n",
    "import sklearn.linear_model\n",
    "import matplotlib.pyplot as plt\n",
    "import matplotlib.ticker as mtick\n",
    "from sklearn.linear_model import LinearRegression  \n",
    "from sklearn.model_selection import train_test_split, KFold, cross_val_score, LeaveOneOut\n",
    "from sklearn.decomposition import PCA\n",
    "from sklearn.ensemble import RandomForestClassifier, RandomForestRegressor\n",
    "from sklearn import tree\n",
    "from scipy import stats\n",
    "from sklearn.preprocessing import PolynomialFeatures\n",
    "from sklearn.pipeline import make_pipeline\n",
    "from sklearn.kernel_ridge import KernelRidge\n",
    "from sklearn import svm\n",
    "from sklearn.model_selection import GridSearchCV\n",
    "from sklearn.gaussian_process import GaussianProcessRegressor"
   ]
  },
  {
   "cell_type": "code",
   "execution_count": 26,
   "metadata": {
    "collapsed": true
   },
   "outputs": [],
   "source": [
    "### Query MySQL #######################################################################\n",
    "\n",
    "def querySQL (database, query):\n",
    "    config = {\n",
    "    'user': 'root',\n",
    "    'password': 'jim',\n",
    "    'host': 'localhost',\n",
    "    'database': database,\n",
    "    'raise_on_warnings': True,\n",
    "    }\n",
    "    cnx = myconnect.connect(**config) \n",
    "    resultset = pd.read_sql_query(query,cnx)\n",
    "    \n",
    "    return resultset\n",
    "\n",
    "#######################################################################################"
   ]
  },
  {
   "cell_type": "code",
   "execution_count": 27,
   "metadata": {
    "collapsed": false
   },
   "outputs": [
    {
     "ename": "SyntaxError",
     "evalue": "EOL while scanning string literal (<ipython-input-27-fe0879943578>, line 1)",
     "output_type": "error",
     "traceback": [
      "\u001b[0;36m  File \u001b[0;32m\"<ipython-input-27-fe0879943578>\"\u001b[0;36m, line \u001b[0;32m1\u001b[0m\n\u001b[0;31m    dfDatasetOrder = querySQL('prom_test_data','SELECT  sequence, mean_score, 35boxstart, 10boxstart, ID FROM inbio_prom_lib  WHERE length(sequence)>5)\u001b[0m\n\u001b[0m                                                                                                                                                       ^\u001b[0m\n\u001b[0;31mSyntaxError\u001b[0m\u001b[0;31m:\u001b[0m EOL while scanning string literal\n"
     ]
    }
   ],
   "source": [
    "dfDatasetOrder = querySQL('prom_test_data','SELECT  sequence, mean_score, 35boxstart, 10boxstart, ID FROM inbio_prom_lib  WHERE length(sequence)>5)\n",
    "sampleCount = len(dfDatasetOrder)\n",
    "\n",
    "DF = pd.DataFrame(index=range(int(sampleCount*(sampleCount-1)/2)), columns=['ID_1','ID_2','sequence_1','sequence_2','rel_rank'])"
   ]
  },
  {
   "cell_type": "code",
   "execution_count": null,
   "metadata": {
    "collapsed": false
   },
   "outputs": [],
   "source": []
  },
  {
   "cell_type": "code",
   "execution_count": 23,
   "metadata": {
    "collapsed": false
   },
   "outputs": [],
   "source": [
    "for i in range(len(dfDatasetOrder)):\n",
    "    ID = dfDatasetOrder.iloc[i,4]\n",
    "    DF.iloc[i*sampleCount:(i+1)*sampleCount,0] = ID\n",
    "\n",
    "ZIP = list(itertools.combinations(dfDatasetOrder.iloc[:,4],2))\n",
    "\n",
    "DF['ID_1'] = [item[0] for item in ZIP]\n",
    "DF['ID_2'] = [item[1] for item in ZIP]\n",
    "\n",
    "DF['sequence_1'] = [dfDatasetOrder[dfDatasetOrder['ID']==x]['sequence'].values[0] for x in DF['ID_1']]\n",
    "DF['sequence_2'] = [dfDatasetOrder[dfDatasetOrder['ID']==x]['sequence'].values[0] for x in DF['ID_2']]\n",
    "\n",
    "DF['score_1'] = [dfDatasetOrder[dfDatasetOrder['ID']==x]['mean_score'].values[0] for x in DF['ID_1']]\n",
    "DF['score_2'] = [dfDatasetOrder[dfDatasetOrder['ID']==x]['mean_score'].values[0] for x in DF['ID_2']]\n",
    "\n",
    "DF['rank'] = [1 if x>(DF.iloc[i]['score_2']) else -1 for i, x in enumerate(DF['score_1']) ]\n",
    "\n",
    "DF['35boxstart_1'] = [dfDatasetOrder[dfDatasetOrder['ID']==x]['35boxstart'].values[0] for x in DF['ID_1']]\n",
    "DF['35boxstart_2'] = [dfDatasetOrder[dfDatasetOrder['ID']==x]['35boxstart'].values[0] for x in DF['ID_2']]\n",
    "\n",
    "DF['10boxstart_1'] = [dfDatasetOrder[dfDatasetOrder['ID']==x]['10boxstart'].values[0] for x in DF['ID_1']]\n",
    "DF['10boxstart_2'] = [dfDatasetOrder[dfDatasetOrder['ID']==x]['10boxstart'].values[0] for x in DF['ID_2']]"
   ]
  },
  {
   "cell_type": "code",
   "execution_count": 24,
   "metadata": {
    "collapsed": false
   },
   "outputs": [],
   "source": [
    "DF.to_csv(path_or_buf='/home/jim/Doctoraat/Data/mutalik_library/pw_inbio_prom_lib', header=False,index=False)"
   ]
  },
  {
   "cell_type": "code",
   "execution_count": 116,
   "metadata": {
    "collapsed": false
   },
   "outputs": [
    {
     "data": {
      "text/plain": [
       "738.39999999999998"
      ]
     },
     "execution_count": 116,
     "metadata": {},
     "output_type": "execute_result"
    }
   ],
   "source": []
  }
 ],
 "metadata": {
  "kernelspec": {
   "display_name": "Python 3",
   "language": "python",
   "name": "python3"
  },
  "language_info": {
   "codemirror_mode": {
    "name": "ipython",
    "version": 3
   },
   "file_extension": ".py",
   "mimetype": "text/x-python",
   "name": "python",
   "nbconvert_exporter": "python",
   "pygments_lexer": "ipython3",
   "version": "3.5.2"
  }
 },
 "nbformat": 4,
 "nbformat_minor": 1
}
