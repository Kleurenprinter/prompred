{
 "cells": [
  {
   "cell_type": "code",
   "execution_count": 7,
   "metadata": {
    "collapsed": false
   },
   "outputs": [
    {
     "name": "stdout",
     "output_type": "stream",
     "text": [
      "Writing ../../src/models/model_utils.py\n"
     ]
    }
   ],
   "source": [
    "%%writefile ../../src/models/model_utils.py\n",
    "# %load ../../src/models/model_utils.py\n",
    "# %%writefile ../../src/models/model_utils.py\n",
    "\"\"\"\n",
    "Author: Jim Clauwaert\n",
    "Created in the scope of my PhD\n",
    "\"\"\"\n",
    "\n",
    "\n",
    "import pandas as pd\n",
    "import numpy as np\n",
    "import sklearn as sk\n",
    "\n",
    "\n",
    "def GetParameterValues(parLabel, parRange):\n",
    "    \n",
    "    \"\"\"Retrieve a set of parameter values used for training of a model in sklearn. \n",
    "    \n",
    "    Parameters\n",
    "    -----------\n",
    "    parLabel : 1-dimensional numpy array (str)\n",
    "        numpy array holding a set of parameter labels. Valid labels include:\n",
    "        [alpha, gamma, C, coef0, epsilon, max_depth, min_samples, max_features]\n",
    "        \n",
    "    parRange : 1-dimensional numpy array (int)\n",
    "        numpy array with the amount of parameters returned for every parameter label. \n",
    "        parLabel and parRange must be of the same dimension.\n",
    "        \n",
    "    \n",
    "    Returns\n",
    "    --------\n",
    "    parEval : Dictionary \n",
    "        Dictionary containing a set of parameters for every label\n",
    "    \"\"\"\n",
    "   \n",
    "    \n",
    "    parameters = [np.zeros(parRange[u]) for u in range(len(parRange))]\n",
    " \n",
    "    for i in range(len(parLabel)):\n",
    "        if parLabel[i] is \"alpha\":\n",
    "            parameters[i][:] = [math.pow(10,(u - np.around(parRange[i]/2))) for u in range(parRange[i])]\n",
    "        elif parLabel[i] is \"gamma\":\n",
    "            parameters[i][:] = [math.pow(10,(u - np.around(parRange[i]/2))) for u in range(parRange[i])]\n",
    "        elif parLabel[i] is \"C\":\n",
    "            parameters[i][:] = [math.pow(10,(u - np.around(parRange[i]/2))) for u in range(parRange[i])]\n",
    "        elif parLabel[i] is \"coef0\":\n",
    "            parameters[i][:] = [math.pow(10,(u - np.around(parRange[i]/2))) for u in range(parRange[i])]\n",
    "        elif parLabel[i] is \"epsilon\":\n",
    "            parameters[i][:] = [0+2/parRange[i]*u for u in range(parRange[i])]\n",
    "        elif parLabel[i] is \"max_depth\":\n",
    "            parameters[i][:] = [u+1 for u in range(parRange[i])]\n",
    "        elif parLabel[i] is 'min_samples':\n",
    "            parameters[i][:] = [u+1 for u in range(parRange[i])]\n",
    "        elif parLabel[i] is 'max_features':\n",
    "            parameters[i][:] = [int(u+2) for u in range(parRange[i])]\n",
    "        else:\n",
    "            return print(\"not a valid parameter\")\n",
    "    \n",
    "    parEval = {parLabel[u]:parameters[u] for u in range(len(parLabel))}\n",
    "    \n",
    "    return parEval\n"
   ]
  },
  {
   "cell_type": "code",
   "execution_count": null,
   "metadata": {
    "collapsed": true
   },
   "outputs": [],
   "source": [
    "\n"
   ]
  }
 ],
 "metadata": {
  "kernelspec": {
   "display_name": "Python 3",
   "language": "python",
   "name": "python3"
  },
  "language_info": {
   "codemirror_mode": {
    "name": "ipython",
    "version": 3
   },
   "file_extension": ".py",
   "mimetype": "text/x-python",
   "name": "python",
   "nbconvert_exporter": "python",
   "pygments_lexer": "ipython3",
   "version": "3.5.2"
  }
 },
 "nbformat": 4,
 "nbformat_minor": 2
}
