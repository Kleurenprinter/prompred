{
 "cells": [
  {
   "cell_type": "code",
   "execution_count": 49,
   "metadata": {
    "collapsed": false
   },
   "outputs": [
    {
     "data": {
      "text/plain": [
       "True"
      ]
     },
     "execution_count": 49,
     "metadata": {},
     "output_type": "execute_result"
    }
   ],
   "source": [
    "ab = str('ab')\n",
    "ab is 'ab'"
   ]
  },
  {
   "cell_type": "code",
   "execution_count": 9,
   "metadata": {
    "collapsed": false
   },
   "outputs": [
    {
     "name": "stdout",
     "output_type": "stream",
     "text": [
      "Overwriting ../../src/models/model_utils.py\n"
     ]
    }
   ],
   "source": [
    "%%writefile ../../src/models/model_utils.py\n",
    "# %load ../../src/models/model_utils.py\n",
    "# %%writefile ../../src/models/model_utils.py\n",
    "\"\"\"\n",
    "Author: Jim Clauwaert\n",
    "Created in the scope of my PhD\n",
    "\"\"\"\n",
    "\n",
    "\n",
    "import pandas as pd\n",
    "import numpy as np\n",
    "import sklearn as sk\n",
    "import math\n",
    "from scipy import stats\n",
    "from sklearn.model_selection import KFold\n",
    "from sklearn.model_selection import GridSearchCV\n",
    "from sklearn.linear_model import LinearRegression, Ridge, Lasso, HuberRegressor\n",
    "from sklearn.ensemble import RandomForestClassifier, RandomForestRegressor\n",
    "from sklearn.tree import DecisionTreeClassifier, DecisionTreeRegressor\n",
    "from sklearn.kernel_ridge import KernelRidge\n",
    "from sklearn.svm import SVC, SVR\n",
    "from sklearn.preprocessing import PolynomialFeatures\n",
    "\n",
    "\n",
    "\n",
    "def GetParameterSet(parLabel, parRange):\n",
    "    \n",
    "    \"\"\"Retrieve a set of parameter values used for training of a model in sklearn. \n",
    "    \n",
    "    Parameters\n",
    "    -----------\n",
    "    parLabel : 1-dimensional numpy array (str)\n",
    "        numpy array holding a set of parameter labels. Valid labels include:\n",
    "        [alpha, gamma, C, coef0, epsilon, max_depth, min_samples, max_features]\n",
    "        \n",
    "    parRange : 1-dimensional numpy array (int)\n",
    "        numpy array with the amount of parameters returned for every parameter label. \n",
    "        parLabel and parRange must be of the same dimension.\n",
    "        \n",
    "    \n",
    "    Returns\n",
    "    --------\n",
    "    parSet : Dictionary \n",
    "        Dictionary containing a set of parameters for every label\n",
    "    \"\"\"\n",
    "    if parLabel[0] in ['max_depth','min_samples_split', 'max_features']:\n",
    "        parameters = [np.zeros(parRange[u],dtype=np.int) for u in range(len(parRange))]\n",
    "    else: \n",
    "        parameters = [np.zeros(parRange[u]) for u in range(len(parRange))]\n",
    "  \n",
    "    for i in range(len(parLabel)):\n",
    "        if parLabel[i] == \"alpha\":\n",
    "            parameters[i][:] = [math.pow(10,(u - np.around(parRange[i]/2))) for u in range(parRange[i])]\n",
    "        elif parLabel[i] == \"gamma\":\n",
    "            parameters[i][:] = [math.pow(10,(u - np.around(parRange[i]/2))) for u in range(parRange[i])]\n",
    "        elif parLabel[i] == \"C\":\n",
    "            parameters[i][:] = [math.pow(10,(u - np.around(parRange[i]/2))) for u in range(parRange[i])]\n",
    "        elif parLabel[i] == \"coef0\":\n",
    "            parameters[i][:] = [math.pow(10,(u - np.around(parRange[i]/2))) for u in range(parRange[i])]\n",
    "        elif parLabel[i] == \"epsilon\":\n",
    "            parameters[i][:] = [0+2/parRange[i]*u for u in range(parRange[i])]\n",
    "        elif parLabel[i] == \"max_depth\":\n",
    "            parameters[i][:] = [int(u+1) for u in range(parRange[i])]\n",
    "        elif parLabel[i] == 'min_samples_split':\n",
    "            parameters[i][:] = [int(u+2) for u in range(parRange[i])]\n",
    "        elif parLabel[i] == 'max_features':\n",
    "            parameters[i][:] = [int(u+2) for u in range(parRange[i])]\n",
    "        else:\n",
    "            return print(\"Not a valid parameter\")\n",
    "    \n",
    "    parSet = {parLabel[u]:parameters[u] for u in range(len(parLabel))}\n",
    "    \n",
    "    return parSet\n",
    "\n",
    "def EvaluateParameterSet(X_train, X_test, y_train, y_test, parModel, parSet):\n",
    "\n",
    "    \"\"\"Evaluate the scores of a set of parameters for a given model. \n",
    "    \n",
    "    Parameters\n",
    "    -----------\n",
    "    X_train: \n",
    "        Training dataset features\n",
    "        \n",
    "    X_test: \n",
    "        Test dataset features\n",
    "        \n",
    "    y_train\n",
    "        Training dataset labels\n",
    "        \n",
    "    y_test\n",
    "        Test dataset labels\n",
    "        \n",
    "    parModel: Dictionary\n",
    "        \n",
    "    parSet : Dictionary\n",
    "        Dictionary holding the parameter label and values over which the model has to be \n",
    "        evaluated. This can be created through the function GetParameterSet.\n",
    "        Accepted keys are:\n",
    "        [alpha, gamma, C, coef0, epsilon, max_depth, min_samples, max_features]\n",
    "        \n",
    "    \n",
    "    Returns\n",
    "    --------\n",
    "    scores: 1-dimensional numpy array: int\n",
    "        Fitted scores of the model with each of the parametersSets\n",
    "    optimalPar: int\n",
    "        Optimal parameter value for a given parameter label\n",
    "\n",
    "    \"\"\"\n",
    "    \n",
    "    scores = []\n",
    "\n",
    "    for i in range(len(parSet[parLabel])):\n",
    "        parSetIt = {parLabel:parSet[parLabel][i]}\n",
    "        model = SelectModel(**parModel,**parEvalIt)\n",
    "        model.fit(X_train,y_train)\n",
    "        scores = np.append(model.score(X_test,y_test))\n",
    "    \n",
    "    optimalPar = parSet[parLabel][np.argmax(scores)]\n",
    "    \n",
    "    return scores, optimalPar\n",
    "\n",
    "def EvaluateScore(X_train, X_test, y_train, y_test, parModel):\n",
    "    \n",
    "    \"\"\"Evaluates the score of a model given for a given test and training data\n",
    "    \n",
    "    Parameters\n",
    "    -----------\n",
    "    X_train, X_test: DataFrame\n",
    "        Test and training data of the features\n",
    "    y_train, y_test: 1-dimensional numpy array\n",
    "        Test and training data of the labels\n",
    "    parModel: dictionary\n",
    "        Parameters indicating the model and some of its features\n",
    "        \n",
    "    Returns\n",
    "    --------\n",
    "    score: int\n",
    "        Score of the test data on the model\n",
    "    y_pred: 1-dimensional array\n",
    "        An array giving the predicted labels for a given test set\n",
    "    \n",
    "    \"\"\"    \n",
    "\n",
    "    model = SelectModel(**parModel)\n",
    "    model.fit(X_train,y_train)\n",
    "    score = model.score(X_test,y_test)\n",
    "    y_pred = model.predict(X_test)\n",
    " \n",
    "    return score, y_pred\n",
    "\n",
    "def LearningCurveInSample(dfDataset, featureBox, y ,parModel, k=5, pw=False, step=1):\n",
    "    \n",
    "    \"\"\"Calculates the learning curve of a dataset for a given model\n",
    "    \n",
    "    Parameters\n",
    "    -----------\n",
    "    dfDataset: Dataframe\n",
    "        Dataframe holding sequences,\n",
    "        \n",
    "    featureBox: Dataframe \n",
    "        Test dataset features\n",
    "        \n",
    "    y: 1-dimensional numpy array\n",
    "\n",
    "        \n",
    "    parModel: Dictionary\n",
    "        \n",
    "    k: int\n",
    "    \n",
    "    pw: Boolean\n",
    "    \n",
    "    step: int\n",
    "        \n",
    "    \n",
    "    Returns\n",
    "    --------\n",
    "    scores: 1-dimensional numpy array: int\n",
    "        Fitted scores of the model with each of the parametersSets\n",
    "    optimalPar: int\n",
    "        Optimal parameter value for a given parameter label\n",
    "\n",
    "    \"\"\"    \n",
    "    X = featureBox.values\n",
    "    \n",
    "    if pw is True:\n",
    "\n",
    "        temp = np.unique(dfDataset[['ID_1', 'ID_2']].values)\n",
    "        dfId = pd.Series(temp[:-(len(temp)%k)])\n",
    "    else: \n",
    "        dfId = dfDataset['ID'][:-(len(dfDataset)%k)]\n",
    "\n",
    "    lenId = len(dfId)\n",
    "    Id = dfId.values\n",
    "    indexId = np.array(range(lenId))\n",
    "\n",
    "    scores = np.array([])\n",
    "    it=0\n",
    "\n",
    "    for i in range(k):\n",
    "        boolTest = np.logical_and(indexId>=i*lenId/k,indexId<(i+1)*lenId/k)\n",
    "        test = Id[boolTest]\n",
    "        train = Id[np.invert(boolTest)]\n",
    "        if pw is True:\n",
    "            indexTest = (dfDataset['ID_1'].isin(test) | dfDataset['ID_2'].isin(test)).values\n",
    "        else:        \n",
    "            indexTest = dfDataset['ID'].isin(test).values\n",
    "\n",
    "        dfDatasetTrain = dfDataset[np.invert(indexTest)]\n",
    "        X_train, y_train = featureBox[np.invert(indexTest)], y[np.invert(indexTest)]\n",
    "        X_test, y_test = featureBox[indexTest], y[indexTest]\n",
    "        for j in range((len(train)-5)//step):\n",
    "            print(\"\\rProgress {:2.1%}\".format(it/k+(j/len(train)/k*step)), end='')\n",
    "            trainInner = train[:(j*step)+5]\n",
    "            if pw is True:\n",
    "                indexTrainInner = (dfDatasetTrain['ID_1'].isin(trainInner) & dfDatasetTrain['ID_2'].isin(trainInner)).values\n",
    "            else:\n",
    "                indexTrainInner = (dfDatasetTrain['ID'].isin(trainInner)).values\n",
    "            X_trainInner, y_trainInner = X_train[indexTrainInner], y_train[indexTrainInner]\n",
    "            score, y_pred = EvaluateScore(X_trainInner, X_test, y_trainInner, y_test, {**parModel})\n",
    "            scores = np.append(scores,score)\n",
    "\n",
    "        it+=1\n",
    "\n",
    "    scores = scores.reshape((k,-1))\n",
    "    \n",
    "    return scores\n",
    "\n",
    "def LearningCurveInSampleEnriched(dfDataset, featureBox, enrichBox, y, y_enrich ,parModel, k=5, pw=True, step=1):\n",
    "\n",
    "    \"\"\"Calculates the learning curve of an enriched dataset for a given model\n",
    "    \n",
    "    Parameters\n",
    "    -----------\n",
    "    dfDataset: Dataframe\n",
    "        Dataframe holding sequences,\n",
    "        \n",
    "    featureBox: Dataframe \n",
    "        Test dataset features\n",
    "        \n",
    "    y: 1-dimensional numpy array\n",
    "\n",
    "        \n",
    "    parModel: Dictionary\n",
    "        \n",
    "    k: int\n",
    "    \n",
    "    pw: Boolean\n",
    "    \n",
    "    step: int\n",
    "        \n",
    "    \n",
    "    Returns\n",
    "    --------\n",
    "    scores: 1-dimensional numpy array: int\n",
    "        Fitted scores of the model with each of the parametersSets\n",
    "    optimalPar: int\n",
    "        Optimal parameter value for a given parameter label\n",
    "\n",
    "    \"\"\"\n",
    "\n",
    "    if pw is True:\n",
    "\n",
    "        temp = np.unique(dfDataset[['ID_1', 'ID_2']].values)\n",
    "        dfId = pd.Series(temp[:-(len(temp)%k)])\n",
    "    else: \n",
    "        dfId = dfDataset['ID'][:-(len(dfDataset)%k)]\n",
    "\n",
    "    lenId = len(dfId)\n",
    "    Id = dfId.values\n",
    "    indexId = np.array(range(lenId))\n",
    "\n",
    "    scores = np.array([])\n",
    "    it=0\n",
    "\n",
    "    for i in range(k):\n",
    "        boolTest = np.logical_and(indexId>=i*lenId/k,indexId<(i+1)*lenId/k)\n",
    "        test = Id[boolTest]\n",
    "        train = Id[np.invert(boolTest)]\n",
    "        if pw is True:\n",
    "            indexTest = (dfDataset['ID_1'].isin(test) | dfDataset['ID_2'].isin(test)).values\n",
    "        else:        \n",
    "            indexTest = dfDataset['ID'].isin(test).values\n",
    "\n",
    "        dfDatasetTrain = dfDataset[np.invert(indexTest)]\n",
    "        X_train = featureBox[np.invert(indexTest)]\n",
    "        y_train = y[np.invert(indexTest)]\n",
    "        X_test, y_test = featureBox[indexTest], y[indexTest]\n",
    "        for j in range((len(train))//step):\n",
    "            print(\"\\rProgress {:2.1%}\".format(it/k+(j/len(train)/k*step)), end='')\n",
    "            trainInner = train[:(j*step)]\n",
    "            if pw is True:\n",
    "                indexTrainInner = (dfDatasetTrain['ID_1'].isin(trainInner) & dfDatasetTrain['ID_2'].isin(trainInner)).values\n",
    "            else:\n",
    "                indexTrainInner = (dfDatasetTrain['ID'].isin(trainInner)).values\n",
    "            X_trainInner = np.vstack((enrichBox,X_train[indexTrainInner]))\n",
    "            y_trainInner =  np.append(y_enrich, y_train[indexTrainInner])\n",
    "            score, y_pred = EvaluateScore(X_trainInner, X_test, y_trainInner, y_test, {**parModel})\n",
    "            scores = np.append(scores,score)\n",
    "\n",
    "        it+=1\n",
    "\n",
    "    scores = scores.reshape((k,-1))\n",
    "    \n",
    "    return scores\n",
    "\n",
    "\n",
    "def LearningCurveOutOfSample(dfDataset, featureBox, y , dataList, parModel, pw=False, step=1):\n",
    "\n",
    "    \"\"\"Calculates the learning curve of a dataset for a given model\n",
    "    \n",
    "    Parameters\n",
    "    -----------\n",
    "    dfDataset: Dataframe\n",
    "        Dataframe holding sequences,\n",
    "        \n",
    "    featureBox: Dataframe \n",
    "        Test dataset features\n",
    "        \n",
    "    y: 1-dimensional numpy array\n",
    "\n",
    "        \n",
    "    parModel: Dictionary\n",
    "        \n",
    "    k: int\n",
    "    \n",
    "    pw: Boolean\n",
    "    \n",
    "    step: int\n",
    "        \n",
    "    \n",
    "    Returns\n",
    "    --------\n",
    "    scores: 1-dimensional numpy array: int\n",
    "        Fitted scores of the model with each of the parametersSets\n",
    "    optimalPar: int\n",
    "        Optimal parameter value for a given parameter label\n",
    "\n",
    "    \"\"\"\n",
    "\n",
    "    if pw is True:\n",
    "        temp = np.unique(dfDataset[['ID_1', 'ID_2']].values)\n",
    "        dfId = pd.Series(temp)\n",
    "    else: \n",
    "        dfId = dfDataset['ID']\n",
    "\n",
    "    lenId = len(dfId)\n",
    "    Id = dfId.values\n",
    "    indexId = np.array(range(lenId))\n",
    "\n",
    "    scores = np.zeros(shape=(len(dataList),(lenId-5)//step))\n",
    "\n",
    "    for i in range((lenId-5)//step):\n",
    "        print(\"\\rProgress {:2.1%}\".format(i/lenId*step), end='')\n",
    "        train = Id[:((i*step)+5)]\n",
    "        if pw is True:\n",
    "            indexTrain = (dfDataset['ID_1'].isin(train) & dfDataset['ID_2'].isin(train)).values\n",
    "        else:        \n",
    "            indexTrain = dfDataset['ID'].isin(train).values\n",
    "        X_train, y_train = featureBox[indexTrain], y[indexTrain]\n",
    "        for j in range(len(dataList)):\n",
    "            score, y_pred = EvaluateScore(X_train, dataList[j][1].values, y_train, dataList[j][2], {**parModel})\n",
    "            if pw is True:\n",
    "                scores[j,i] = score\n",
    "            else:\n",
    "                scores[j,i] = abs(stats.spearmanr(dataList[j][0]['mean_score'],y_pred)[0])\n",
    "\n",
    "    return scores\n",
    "\n",
    "def LearningCurveOutOfSampleEnriched(dfDataset, featureBox, enrichBox, y, y_enrich, dataOutList, parModel, pw=True, step=1):\n",
    "    \n",
    "    if pw is True:\n",
    "        temp = np.unique(dfDataset[['ID_1', 'ID_2']].values)\n",
    "        dfId = pd.Series(temp)\n",
    "    else: \n",
    "        dfId = dfDataset['ID']\n",
    "\n",
    "    lenId = len(dfId)\n",
    "    Id = dfId.values\n",
    "    indexId = np.array(range(lenId))\n",
    "\n",
    "    scores = np.zeros(shape=(len(dataOutList),(lenId)//step))\n",
    "\n",
    "    for i in range((lenId)//step):\n",
    "        print(\"\\rProgress {:2.1%}\".format(i/lenId*step), end='')\n",
    "        train = Id[:(i*step)]\n",
    "        if pw is True:\n",
    "            indexTrain = (dfDataset['ID_1'].isin(train) & dfDataset['ID_2'].isin(train)).values\n",
    "        else:        \n",
    "            indexTrain = dfDataset['ID'].isin(train).values\n",
    "        X_train = np.vstack((enrichBox ,featureBox[indexTrain]))\n",
    "        y_train = np.append(y_enrich, y[indexTrain])\n",
    "        for j in range(len(dataOutList)):\n",
    "            score, y_pred = EvaluateScore(X_train, dataOutList[j][1].values, y_train, dataOutList[j][2], {**parModel})\n",
    "            if pw is True:\n",
    "                scores[j,i] = score\n",
    "            else:\n",
    "                scores[j,i] = abs(stats.spearmanr(dataOutList[j][0]['mean_score'],y_pred)[0])\n",
    "\n",
    "    return scores\n",
    "\n",
    "def SelectModel(modelType, poly=None, kernel=None, alpha=0.1, gamma=0.1, epsilon=0.1, coef0=1,  \n",
    "                     fitInt=True, normalize=True, max_depth=None, max_features=None, min_samples_split = 2, \n",
    "                     n_estimators = 50, C=1, n_jobs=12):\n",
    "    \n",
    "    \"\"\" Initializes the correct model for a given set of parameters. \n",
    "    \n",
    "    Parameters\n",
    "    -----------\n",
    "    modelType: str\n",
    "        Type of model. Possible values are:\n",
    "        ['ridge',  'SVC', 'SVR', OLS', 'lasso', 'huber', 'treeReg', 'treeClass', 'forestReg', 'forestClass']\n",
    "    \n",
    "    other parameters include (further information can be found on sklearn):\n",
    "    poly: int\n",
    "    kernel: str\n",
    "    alpha: int\n",
    "    gamma: int\n",
    "    epsilon: int\n",
    "    coef0: int\n",
    "    fit_intercept= Bool\n",
    "    normalize = Bool\n",
    "    max_depth = int\n",
    "    max_features = int\n",
    "    min_samples_split = int\n",
    "    n_estimators = int\n",
    "    C = int\n",
    "    n_jobs= int\n",
    "    \n",
    "    Returns\n",
    "    -------\n",
    "    model: Class \n",
    "        sklearn-type model\n",
    "    \n",
    "    \n",
    "    \"\"\"\n",
    "    \n",
    "    if kernel:\n",
    "        if modelType == \"ridge\":\n",
    "            model = KernelRidge(alpha=alpha, gamma=gamma, kernel=kernel, coef0=coef0)\n",
    "        if modelType == \"SVC\":\n",
    "            model = SVC(C=C, kernel=kernel, gamma=gamma, coef0=coef0, degree=poly)\n",
    "        if modelType == \"SVR\":\n",
    "            model = SVR(C=C, kernel=kernel, gamma=gamma, coef0=coef0, epsilon=epsilon, degree=poly)\n",
    "                    \n",
    "    elif poly:\n",
    "        if modelType == \"OLS\":\n",
    "            model = make_pipeline(PolynomialFeatures(poly), LinearRegression(fit_intercept=fit_intercept, normalize=normalize))\n",
    "        if modelType == \"ridge\":\n",
    "            model = make_pipeline(PolynomialFeatures(poly), Ridge(alpha= alpha, normalize=normalize))\n",
    "        if modelType == \"lasso\":\n",
    "            model = make_pipeline(PolynomialFeatures(poly), Lasso(alpha= alpha, normalize=normalize))\n",
    "        if modelType == \"huber\":\n",
    "            model = make_pipeline(PolynomialFeatures(poly), HuberRegressor(fit_intercept=fitInt, epsilon=epsilon, alpha=alpha))\n",
    "\n",
    "    else: \n",
    "        if modelType == \"OLS\":\n",
    "            model = LinearRegression(fit_intercept=fitInt, normalize=normalize)\n",
    "        if modelType == \"ridge\":\n",
    "            model = Ridge(alpha= alpha, normalize=normalize)\n",
    "        if modelType == \"lasso\":\n",
    "            model = Lasso(alpha= alpha, normalize=normalize)\n",
    "        if modelType == \"huber\":\n",
    "            model = HuberRegressor(fit_intercept=fitInt, alpha=alpha, epsilon=epsilon)\n",
    "        if modelType == \"treeReg\":\n",
    "            model = DecisionTreeRegressor(max_depth= max_depth, max_features=max_features, min_samples_split = min_samples_split)\n",
    "        if modelType == \"treeClass\":\n",
    "            model = DecisionTreeClassifier(max_depth = max_depth, max_features=max_features, min_samples_split = min_samples_split)\n",
    "        if modelType == \"forestReg\":\n",
    "            model = RandomForestRegressor(n_estimators = n_estimators, max_depth = max_depth, max_features= max_features, min_samples_split = min_samples_split, n_jobs=n_jobs)\n",
    "        if modelType == \"forestClass\":\n",
    "            model = RandomForestClassifier(n_estimators = n_estimators, max_depth = max_depth, max_features= max_features, min_samples_split = min_samples_split, n_jobs=n_jobs)\n",
    "    \n",
    "    return model\n",
    "\n",
    "\n",
    "def SetupModel(modelInit, parOptional={}):\n",
    "    #model selection and hyperparameters\n",
    "    modelType = modelInit[0]\n",
    "    kernel = modelInit[1]\n",
    "    poly= modelInit[2]\n",
    "\n",
    "    parModel = {\"modelType\":modelType, \"poly\":poly, \"kernel\":kernel, **parOptional }\n",
    "    \n",
    "    return parModel\n",
    "\n"
   ]
  },
  {
   "cell_type": "code",
   "execution_count": 43,
   "metadata": {
    "collapsed": false
   },
   "outputs": [
    {
     "data": {
      "text/plain": [
       "{'alpha': array([  1.00000000e-05,   1.00000000e-04,   1.00000000e-03,\n",
       "          1.00000000e-02,   1.00000000e-01,   1.00000000e+00,\n",
       "          1.00000000e+01,   1.00000000e+02,   1.00000000e+03,\n",
       "          1.00000000e+04]),\n",
       " 'gamma': array([  1.00000000e-05,   1.00000000e-04,   1.00000000e-03,\n",
       "          1.00000000e-02,   1.00000000e-01,   1.00000000e+00,\n",
       "          1.00000000e+01,   1.00000000e+02,   1.00000000e+03,\n",
       "          1.00000000e+04])}"
      ]
     },
     "execution_count": 43,
     "metadata": {},
     "output_type": "execute_result"
    }
   ],
   "source": [
    "GetParameterSet(['alpha', 'gamma'],[10, 10])"
   ]
  },
  {
   "cell_type": "code",
   "execution_count": 5,
   "metadata": {
    "collapsed": false
   },
   "outputs": [],
   "source": [
    "import sys\n",
    "sys.path.append(\"../../src/\")\n",
    "import features.feature_utils as fu\n",
    "import models.model_utils as mu\n",
    "import plots.plot_utils as pu\n",
    "import pandas as pd\n",
    "import math\n",
    "import numpy as np\n",
    "import matplotlib.pyplot as plt\n",
    "from scipy import stats\n",
    "from sklearn.model_selection import GridSearchCV\n",
    "%matplotlib inline\n"
   ]
  },
  {
   "cell_type": "code",
   "execution_count": 31,
   "metadata": {
    "collapsed": false
   },
   "outputs": [],
   "source": [
    "model = ['forestClass',None,None]\n",
    "modelOpt = {'n_estimators':10}\n",
    "\n",
    "pw = True\n",
    "step = 2\n",
    "seqRegions = [[0,12],[-6,11]]\n",
    "\n",
    "data = '../../data/interim/pw_hammer_prom_lib.csv'\n",
    "dataEnrich = ['../../data/interim/pw_mutalik_prom_lib.csv']\n",
    "dataOut = ['../../data/interim/pw_anderson_prom_lib.csv','../../data/interim/pw_brewster_prom_lib.csv'\n",
    "          ,'../../data/interim/pw_inbio_prom_lib.csv']\n",
    "\n",
    "dataOutLabels = ['anderson','brewster','inbio']\n"
   ]
  },
  {
   "cell_type": "code",
   "execution_count": 27,
   "metadata": {
    "collapsed": true
   },
   "outputs": [],
   "source": [
    "def LearningCurveOutOfSampleEnriched(dfDataset, featureBox, enrichBox, y, y_enrich, dataOutList, parModel, pw=False, step=1):\n",
    "    \n",
    "    if pw is True:\n",
    "        temp = np.unique(dfDataset[['ID_1', 'ID_2']].values)\n",
    "        dfId = pd.Series(temp)\n",
    "    else: \n",
    "        dfId = dfDataset['ID']\n",
    "\n",
    "    lenId = len(dfId)\n",
    "    Id = dfId.values\n",
    "    indexId = np.array(range(lenId))\n",
    "\n",
    "    scores = np.zeros(shape=(len(dataOut),(lenId-5)//step))\n",
    "\n",
    "    for i in range((lenId)//step):\n",
    "        print(\"\\rProgress {:2.1%}\".format(i/len(Id)), end='')\n",
    "        train = Id[:(i*step)]\n",
    "        if pw is True:\n",
    "            indexTrain = (dfDataset['ID_1'].isin(train) & dfDataset['ID_2'].isin(train)).values\n",
    "        else:        \n",
    "            indexTrain = dfDataset['ID'].isin(train).values\n",
    "        X_train = np.vstack((enrichBoxFull ,featureBox[indexTrain]))\n",
    "        y_train = np.append(y_enrich, y[indexTrain])\n",
    "        for j in range(len(dataOut)):\n",
    "            score, y_pred = EvaluateScore(X_train, dataOutList[j][1].values, y_train, dataOutList[j][2], {**parModel})\n",
    "            if pw is True:\n",
    "                scores[j,i] = score\n",
    "            else:\n",
    "                scores[j,i] = abs(stats.spearmanr(dataOutList[j][0]['mean_score'],y_pred)[0])\n",
    "\n",
    "    return scores"
   ]
  },
  {
   "cell_type": "code",
   "execution_count": 32,
   "metadata": {
    "collapsed": false,
    "scrolled": false
   },
   "outputs": [
    {
     "name": "stdout",
     "output_type": "stream",
     "text": [
      "Progress 41.7%rogress 2.8%"
     ]
    },
    {
     "ename": "IndexError",
     "evalue": "index 15 is out of bounds for axis 1 with size 15",
     "output_type": "error",
     "traceback": [
      "\u001b[0;31m---------------------------------------------------------------------------\u001b[0m",
      "\u001b[0;31mIndexError\u001b[0m                                Traceback (most recent call last)",
      "\u001b[0;32m<ipython-input-32-1bf97f382392>\u001b[0m in \u001b[0;36m<module>\u001b[0;34m()\u001b[0m\n\u001b[1;32m     25\u001b[0m \u001b[0my\u001b[0m \u001b[0;34m=\u001b[0m \u001b[0mdfDataset\u001b[0m\u001b[0;34m[\u001b[0m\u001b[0;34m'rank'\u001b[0m\u001b[0;34m]\u001b[0m\u001b[0;34m\u001b[0m\u001b[0m\n\u001b[1;32m     26\u001b[0m \u001b[0;34m\u001b[0m\u001b[0m\n\u001b[0;32m---> 27\u001b[0;31m \u001b[0mscores\u001b[0m \u001b[0;34m=\u001b[0m \u001b[0mLearningCurveOutOfSampleEnriched\u001b[0m\u001b[0;34m(\u001b[0m\u001b[0mdfDataset\u001b[0m\u001b[0;34m,\u001b[0m \u001b[0mfeatureBox\u001b[0m\u001b[0;34m,\u001b[0m \u001b[0menrichBox\u001b[0m\u001b[0;34m,\u001b[0m \u001b[0my\u001b[0m\u001b[0;34m,\u001b[0m \u001b[0my_enrich\u001b[0m\u001b[0;34m,\u001b[0m \u001b[0mdataOutList\u001b[0m\u001b[0;34m,\u001b[0m \u001b[0mparModel\u001b[0m\u001b[0;34m,\u001b[0m \u001b[0mpw\u001b[0m\u001b[0;34m,\u001b[0m \u001b[0mstep\u001b[0m\u001b[0;34m)\u001b[0m\u001b[0;34m\u001b[0m\u001b[0m\n\u001b[0m\u001b[1;32m     28\u001b[0m \u001b[0;34m\u001b[0m\u001b[0m\n\u001b[1;32m     29\u001b[0m \u001b[0;34m\u001b[0m\u001b[0m\n",
      "\u001b[0;32m<ipython-input-27-cf02f6c909c6>\u001b[0m in \u001b[0;36mLearningCurveOutOfSampleEnriched\u001b[0;34m(dfDataset, featureBox, enrichBox, y, y_enrich, dataOutList, parModel, pw, step)\u001b[0m\n\u001b[1;32m     25\u001b[0m             \u001b[0mscore\u001b[0m\u001b[0;34m,\u001b[0m \u001b[0my_pred\u001b[0m \u001b[0;34m=\u001b[0m \u001b[0mEvaluateScore\u001b[0m\u001b[0;34m(\u001b[0m\u001b[0mX_train\u001b[0m\u001b[0;34m,\u001b[0m \u001b[0mdataOutList\u001b[0m\u001b[0;34m[\u001b[0m\u001b[0mj\u001b[0m\u001b[0;34m]\u001b[0m\u001b[0;34m[\u001b[0m\u001b[0;36m1\u001b[0m\u001b[0;34m]\u001b[0m\u001b[0;34m.\u001b[0m\u001b[0mvalues\u001b[0m\u001b[0;34m,\u001b[0m \u001b[0my_train\u001b[0m\u001b[0;34m,\u001b[0m \u001b[0mdataOutList\u001b[0m\u001b[0;34m[\u001b[0m\u001b[0mj\u001b[0m\u001b[0;34m]\u001b[0m\u001b[0;34m[\u001b[0m\u001b[0;36m2\u001b[0m\u001b[0;34m]\u001b[0m\u001b[0;34m,\u001b[0m \u001b[0;34m{\u001b[0m\u001b[0;34m**\u001b[0m\u001b[0mparModel\u001b[0m\u001b[0;34m}\u001b[0m\u001b[0;34m)\u001b[0m\u001b[0;34m\u001b[0m\u001b[0m\n\u001b[1;32m     26\u001b[0m             \u001b[0;32mif\u001b[0m \u001b[0mpw\u001b[0m \u001b[0;32mis\u001b[0m \u001b[0;32mTrue\u001b[0m\u001b[0;34m:\u001b[0m\u001b[0;34m\u001b[0m\u001b[0m\n\u001b[0;32m---> 27\u001b[0;31m                 \u001b[0mscores\u001b[0m\u001b[0;34m[\u001b[0m\u001b[0mj\u001b[0m\u001b[0;34m,\u001b[0m\u001b[0mi\u001b[0m\u001b[0;34m]\u001b[0m \u001b[0;34m=\u001b[0m \u001b[0mscore\u001b[0m\u001b[0;34m\u001b[0m\u001b[0m\n\u001b[0m\u001b[1;32m     28\u001b[0m             \u001b[0;32melse\u001b[0m\u001b[0;34m:\u001b[0m\u001b[0;34m\u001b[0m\u001b[0m\n\u001b[1;32m     29\u001b[0m                 \u001b[0mscores\u001b[0m\u001b[0;34m[\u001b[0m\u001b[0mj\u001b[0m\u001b[0;34m,\u001b[0m\u001b[0mi\u001b[0m\u001b[0;34m]\u001b[0m \u001b[0;34m=\u001b[0m \u001b[0mabs\u001b[0m\u001b[0;34m(\u001b[0m\u001b[0mstats\u001b[0m\u001b[0;34m.\u001b[0m\u001b[0mspearmanr\u001b[0m\u001b[0;34m(\u001b[0m\u001b[0mdataOutList\u001b[0m\u001b[0;34m[\u001b[0m\u001b[0mj\u001b[0m\u001b[0;34m]\u001b[0m\u001b[0;34m[\u001b[0m\u001b[0;36m0\u001b[0m\u001b[0;34m]\u001b[0m\u001b[0;34m[\u001b[0m\u001b[0;34m'mean_score'\u001b[0m\u001b[0;34m]\u001b[0m\u001b[0;34m,\u001b[0m\u001b[0my_pred\u001b[0m\u001b[0;34m)\u001b[0m\u001b[0;34m[\u001b[0m\u001b[0;36m0\u001b[0m\u001b[0;34m]\u001b[0m\u001b[0;34m)\u001b[0m\u001b[0;34m\u001b[0m\u001b[0m\n",
      "\u001b[0;31mIndexError\u001b[0m: index 15 is out of bounds for axis 1 with size 15"
     ]
    }
   ],
   "source": [
    "parModel = SetupModel(model,modelOpt)\n",
    "\n",
    "\n",
    "dfDataset , featureBox = fu.CreateFeaturesFromData(data, seqRegions, pw, shuffle=True)\n",
    "data\n",
    "\n",
    "enrichBoxList = []\n",
    "y_enrich = []\n",
    "for e in dataEnrich:\n",
    "    dfEnrich, enrichBox = fu.CreateFeaturesFromData(e, seqRegions, pw)\n",
    "    y = dfEnrich['rank']\n",
    "    enrichBoxList.append(enrichBox)\n",
    "    y_enrich.append(y)\n",
    "    #dataEnrichList.append((dfEnrich, enrichBox, y))\n",
    "\n",
    "enrichBox = np.vstack((enrichBoxList[:]))\n",
    "\n",
    "dataOutList = []\n",
    "for d in dataOut:\n",
    "    dfOut, outBox = fu.CreateFeaturesFromData(d, seqRegions, pw)\n",
    "    y = dfOut['rank']\n",
    "    dataOutList.append((dfOut, outBox, y))\n",
    "\n",
    "X = featureBox.values\n",
    "y = dfDataset['rank']\n",
    "\n",
    "scores = LearningCurveOutOfSampleEnriched(dfDataset, featureBox, enrichBox, y, y_enrich, dataOutList, parModel, pw, step)\n",
    "\n",
    "fig, ax = plt.subplots(1,1, figsize=(8,6))\n",
    "\n",
    "ax.set_title(\"Learning curve out of sample score\")\n",
    "colors = ['bo','ro','yo','go','wo','mo','co','ko','bo','co']\n",
    "for j in range(len(dataOut)):\n",
    "    ax.plot(range((lenId)//step),scores[j,:], colors[j], label=dataOutLabels[j])\n",
    "ax.legend(loc='center left', bbox_to_anchor=(1, 0.5))\n",
    "ax.set_xlabel(\"Step\")\n",
    "ax.set_ylabel(\"Score\")\n",
    "\n"
   ]
  },
  {
   "cell_type": "code",
   "execution_count": 21,
   "metadata": {
    "collapsed": false
   },
   "outputs": [],
   "source": [
    "model = ['forestClass',None,None]\n",
    "modelOpt = {'n_estimators':10}\n",
    "k= 5\n",
    "pw = True\n",
    "step = 1\n",
    "seqRegions = [[-7,12],[-6,11]]\n",
    "data = '../../data/interim/pw_hammer_prom_lib.csv'\n",
    "dataEnrich= '../../data/interim/pw_mutalik_prom_lib.csv'\n",
    "\n",
    "dfDataset , featureBox = fu.CreateFeaturesFromData(data, seqRegions, pw, shuffle=True)\n",
    "dfEnrich, enrichBox = fu.CreateFeaturesFromData(dataEnrich, seqRegions, pw, shuffle=True)\n",
    "\n",
    "X_enrich = enrichBox.values\n",
    "y_enrich = dfEnrich['rank']\n",
    "\n",
    "X = featureBox.values\n",
    "y = dfDataset['rank']\n",
    "\n",
    "parModel = mu.SetupModel(model, modelOpt)\n",
    "\n"
   ]
  },
  {
   "cell_type": "code",
   "execution_count": 20,
   "metadata": {
    "collapsed": false
   },
   "outputs": [
    {
     "data": {
      "text/plain": [
       "array([], shape=(3, 0), dtype=float64)"
      ]
     },
     "execution_count": 20,
     "metadata": {},
     "output_type": "execute_result"
    }
   ],
   "source": [
    "scores"
   ]
  },
  {
   "cell_type": "code",
   "execution_count": 22,
   "metadata": {
    "collapsed": false
   },
   "outputs": [
    {
     "name": "stdout",
     "output_type": "stream",
     "text": [
      "Progress 99.3%rogress 0.7%"
     ]
    },
    {
     "data": {
      "text/plain": [
       "[]"
      ]
     },
     "execution_count": 22,
     "metadata": {},
     "output_type": "execute_result"
    },
    {
     "data": {
      "image/png": "[encoded data removed]",
      "text/plain": [
       "<matplotlib.figure.Figure at 0x7f7e2beb47b8>"
      ]
     },
     "metadata": {},
     "output_type": "display_data"
    }
   ],
   "source": [
    "if pw is True:\n",
    "\n",
    "    temp = np.unique(dfDataset[['ID_1', 'ID_2']].values)\n",
    "    dfId = pd.Series(temp[:-(len(temp)%k)])\n",
    "else: \n",
    "    dfId = dfDataset['ID'][:-(len(dfDataset)%k)]\n",
    "\n",
    "lenId = len(dfId)\n",
    "Id = dfId.values\n",
    "indexId = np.array(range(lenId))\n",
    "\n",
    "scores = np.array([])\n",
    "it=0\n",
    "\n",
    "for i in range(k):\n",
    "    boolTest = np.logical_and(indexId>=i*lenId/k,indexId<(i+1)*lenId/k)\n",
    "    test = Id[boolTest]\n",
    "    train = Id[np.invert(boolTest)]\n",
    "    if pw is True:\n",
    "        indexTest = (dfDataset['ID_1'].isin(test) | dfDataset['ID_2'].isin(test)).values\n",
    "    else:        \n",
    "        indexTest = dfDataset['ID'].isin(test).values\n",
    "\n",
    "    dfDatasetTrain = dfDataset[np.invert(indexTest)]\n",
    "    X_train = featureBox[np.invert(indexTest)]\n",
    "    y_train = y[np.invert(indexTest)]\n",
    "    X_test, y_test = featureBox[indexTest], y[indexTest]\n",
    "    for j in range((len(train))//step):\n",
    "        print(\"\\rProgress {:2.1%}\".format(it/k+(j/len(train)/k)), end='')\n",
    "        trainInner = train[:(j*step)]\n",
    "        if pw is True:\n",
    "            indexTrainInner = (dfDatasetTrain['ID_1'].isin(trainInner) & dfDatasetTrain['ID_2'].isin(trainInner)).values\n",
    "        else:\n",
    "            indexTrainInner = (dfDatasetTrain['ID'].isin(trainInner)).values\n",
    "        X_trainInner = np.vstack((enrichBox,X_train[indexTrainInner]))\n",
    "        y_trainInner =  np.append(y_enrich, y_train[indexTrainInner])\n",
    "        score, y_pred = mu.EvaluateScore(X_trainInner, X_test, y_trainInner, y_test, {**parModel})\n",
    "        scores = np.append(scores,score)\n",
    "\n",
    "    it+=1\n",
    "\n",
    "scores = scores.reshape((k,-1))\n",
    "\n",
    "fig, (ax1,ax2) = plt.subplots(2,1, figsize=(10,8),sharex=True)\n",
    "\n",
    "ax1.set_title(\"Learning curve in sample score of enriched dataset\")\n",
    "for i in range(k):\n",
    "    colors = ['bo','ro','yo','go','wo','mo','co','ko','bo','co']\n",
    "    ax1.plot(range(len(scores[i,:])),scores[i,:], colors[i])\n",
    "ax1.set_xlabel(\"Step\")\n",
    "ax1.set_ylabel(\"Score\")\n",
    "meanScores=np.mean(scores,axis=0)\n",
    "stdScores=np.std(scores,axis=0)\n",
    "ax2.errorbar(range(len(meanScores)), meanScores[:], stdScores[:])\n",
    "ax2.set_xlabel(\"Step\")\n",
    "ax2.set_ylabel(\"Score\")\n"
   ]
  },
  {
   "cell_type": "code",
   "execution_count": 24,
   "metadata": {
    "collapsed": false
   },
   "outputs": [
    {
     "data": {
      "text/plain": [
       "<matplotlib.text.Text at 0x7f7e2a377128>"
      ]
     },
     "execution_count": 24,
     "metadata": {},
     "output_type": "execute_result"
    },
    {
     "data": {
      "image/png": "[encoded data removed]",
      "text/plain": [
       "<matplotlib.figure.Figure at 0x7f7e2a4d3978>"
      ]
     },
     "metadata": {},
     "output_type": "display_data"
    }
   ],
   "source": [
    "fig, (ax1,ax2) = plt.subplots(2,1, figsize=(10,8),sharex=True)\n",
    "\n",
    "ax1.set_title(\"Learning curve in sample score, stepwise increase of promoter in train library\")\n",
    "for i in range(k):\n",
    "    colors = ['bo','ro','yo','go','wo','mo','co','ko','bo','co']\n",
    "    ax1.plot(range(len(scores[i,:])),scores[i,:], colors[i])\n",
    "ax1.set_xlabel(\"Step\")\n",
    "ax1.set_ylabel(\"Score\")\n",
    "meanScores=np.mean(scores,axis=0)\n",
    "stdScores=np.std(scores,axis=0)\n",
    "ax2.errorbar(range(len(meanScores)), meanScores[:], stdScores[:])\n",
    "ax2.set_xlabel(\"Step\")\n",
    "ax2.set_ylabel(\"Score\")\n"
   ]
  },
  {
   "cell_type": "code",
   "execution_count": 50,
   "metadata": {
    "collapsed": false
   },
   "outputs": [
    {
     "data": {
      "text/plain": [
       "'parSet = GetParameterSet(parLabel, parRange)\\n\\n\\nmodel = SelectModel(**parModel)\\nGS = GridSearchCV(model, parSet, cv=k, n_jobs=n_jobs)\\nGS.fit(X,y)'"
      ]
     },
     "execution_count": 50,
     "metadata": {},
     "output_type": "execute_result"
    }
   ],
   "source": [
    "\n",
    "dfDataset = pd.read_csv('../../data/interim/pw_mutalik_prom_lib.csv')\n",
    "dfDatasetAligned = fu.AlignSequences(dfDataset, pw=True)\n",
    "\n",
    "dfDatasetShuffled , featureBox = fu.PositionalFeaturesPW(dfDatasetAligned, [[-7,12],[-6,11]], shuffle=True)\n",
    "\n",
    "X = featureBox.values\n",
    "y = dfDatasetShuffled['rank']\n",
    "\n",
    "\"\"\"parSet = GetParameterSet(parLabel, parRange)\n",
    "\n",
    "\n",
    "model = SelectModel(**parModel)\n",
    "GS = GridSearchCV(model, parSet, cv=k, n_jobs=n_jobs)\n",
    "GS.fit(X,y)\"\"\""
   ]
  },
  {
   "cell_type": "code",
   "execution_count": 10,
   "metadata": {
    "collapsed": false
   },
   "outputs": [
    {
     "data": {
      "text/plain": [
       "SVC(C=1.0, cache_size=200, class_weight=None, coef0=0.0,\n",
       "  decision_function_shape=None, degree=1, gamma=1.0, kernel='poly',\n",
       "  max_iter=-1, probability=False, random_state=None, shrinking=True,\n",
       "  tol=0.001, verbose=False)"
      ]
     },
     "execution_count": 10,
     "metadata": {},
     "output_type": "execute_result"
    }
   ],
   "source": [
    "GS.best_estimator_"
   ]
  },
  {
   "cell_type": "code",
   "execution_count": null,
   "metadata": {
    "collapsed": false
   },
   "outputs": [],
   "source": []
  },
  {
   "cell_type": "code",
   "execution_count": 6,
   "metadata": {
    "collapsed": false
   },
   "outputs": [
    {
     "data": {
      "text/plain": [
       "253"
      ]
     },
     "execution_count": 6,
     "metadata": {},
     "output_type": "execute_result"
    }
   ],
   "source": [
    "np.unique(dfDatasetShuffled[['ID_1']].values).size"
   ]
  },
  {
   "cell_type": "code",
   "execution_count": 38,
   "metadata": {
    "collapsed": false
   },
   "outputs": [
    {
     "data": {
      "text/plain": [
       "array([ 0.33934354,  0.35658643,  0.5590372 ,  0.55002188,  0.56630197,\n",
       "        0.54013129,  0.52770241,  0.49986871,  0.47474836,  0.4604814 ,\n",
       "        0.44822757,  0.47343545,  0.4697593 ,  0.57995624,  0.58196937,\n",
       "        0.54249453,  0.55002188,  0.56647702,  0.57461707,  0.57741794,\n",
       "        0.58091904,  0.57890591,  0.58284464,  0.57776805,  0.60157549,\n",
       "        0.59929978,  0.60525164,  0.59991247,  0.60078775,  0.61916849,\n",
       "        0.62555799,  0.62932166,  0.64253829,  0.63045952])"
      ]
     },
     "execution_count": 38,
     "metadata": {},
     "output_type": "execute_result"
    }
   ],
   "source": [
    "scores"
   ]
  },
  {
   "cell_type": "code",
   "execution_count": 29,
   "metadata": {
    "collapsed": false
   },
   "outputs": [
    {
     "data": {
      "text/plain": [
       "1020"
      ]
     },
     "execution_count": 29,
     "metadata": {},
     "output_type": "execute_result"
    }
   ],
   "source": [
    "len(train)*5"
   ]
  }
 ],
 "metadata": {
  "kernelspec": {
   "display_name": "Python 3",
   "language": "python",
   "name": "python3"
  },
  "language_info": {
   "codemirror_mode": {
    "name": "ipython",
    "version": 3
   },
   "file_extension": ".py",
   "mimetype": "text/x-python",
   "name": "python",
   "nbconvert_exporter": "python",
   "pygments_lexer": "ipython3",
   "version": "3.5.2"
  }
 },
 "nbformat": 4,
 "nbformat_minor": 2
}
