{
 "cells": [
  {
   "cell_type": "code",
   "execution_count": 11,
   "metadata": {
    "collapsed": false
   },
   "outputs": [
    {
     "data": {
      "text/plain": [
       "True"
      ]
     },
     "execution_count": 11,
     "metadata": {},
     "output_type": "execute_result"
    }
   ],
   "source": [
    "results = ['2','45','4']\n",
    "type(results) is list"
   ]
  },
  {
   "cell_type": "code",
   "execution_count": 12,
   "metadata": {
    "collapsed": false
   },
   "outputs": [
    {
     "name": "stdout",
     "output_type": "stream",
     "text": [
      "Overwriting ../../src/log_utils.py\n"
     ]
    }
   ],
   "source": [
    "%%writefile ../../src/log_utils.py\n",
    "# %load ../../src/log_utils.py\n",
    "# %%writefile ../../src/log_utils.py\n",
    "\"\"\"\n",
    "Author: Jim Clauwaert\n",
    "Created in the scope of my PhD\n",
    "\"\"\"\n",
    "\n",
    "import json\n",
    "import datetime as dt\n",
    "def LogInit(function, model, parameters, localarg):\n",
    "    time = dt.datetime.now().strftime('%Y-%m-%d_%H-%M')            \n",
    "    parString = ''.join([num for num in parameters])\n",
    "    LOGFILENAME = '{}_{}_{}-{}-{}_{}'.format(time ,function, model[0].upper(),\n",
    "                                            model[1],model[2],parString)\n",
    "    RESULTLOG = '../logs/result_logger/'+LOGFILENAME\n",
    "    \n",
    "    MAINLOG = '../logs/log.txt'\n",
    "    output = '\\n\\nSTARTED  '+LOGFILENAME + '\\n\\targuments: '+localarg\n",
    "    with open(MAINLOG, 'a') as f:\n",
    "        f.write(output)\n",
    "    f.close()\n",
    "    print(output)\n",
    "    return MAINLOG, RESULTLOG\n",
    "    \n",
    "def LogWrap(MAINLOG, RESULTLOG, results):\n",
    "    \n",
    "    output=''\n",
    "    if type(results) is list:\n",
    "        for result in results:\n",
    "            output=output+'\\n'+result\n",
    "    else:\n",
    "        output = results\n",
    "    with open(RESULTLOG+'.txt', 'w') as f:\n",
    "        f.write(output)\n",
    "    f.close()\n",
    "    outputWrap = '\\n...FINISHED'\n",
    "    with open(MAINLOG, 'a') as f:\n",
    "        f.write(outputWrap)\n",
    "    print(outputWrap)\n",
    "    f.close()\n",
    "    \n",
    "                "
   ]
  },
  {
   "cell_type": "code",
   "execution_count": null,
   "metadata": {
    "collapsed": true
   },
   "outputs": [],
   "source": []
  }
 ],
 "metadata": {
  "kernelspec": {
   "display_name": "Python 3",
   "language": "python",
   "name": "python3"
  },
  "language_info": {
   "codemirror_mode": {
    "name": "ipython",
    "version": 3
   },
   "file_extension": ".py",
   "mimetype": "text/x-python",
   "name": "python",
   "nbconvert_exporter": "python",
   "pygments_lexer": "ipython3",
   "version": "3.5.2"
  }
 },
 "nbformat": 4,
 "nbformat_minor": 2
}
