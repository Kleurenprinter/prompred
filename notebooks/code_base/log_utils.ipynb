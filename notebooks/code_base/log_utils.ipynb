{
 "cells": [
  {
   "cell_type": "code",
   "execution_count": 1,
   "metadata": {
    "collapsed": false
   },
   "outputs": [
    {
     "name": "stdout",
     "output_type": "stream",
     "text": [
      "Overwriting ../../src/log_utils.py\n"
     ]
    }
   ],
   "source": [
    "%%writefile ../../src/log_utils.py\n",
    "# %load ../../src/log_utils.py\n",
    "# %%writefile ../../src/log_utils.py\n",
    "\"\"\"\n",
    "Author: Jim Clauwaert\n",
    "Created in the scope of my PhD\n",
    "\"\"\"\n",
    "\n",
    "import json\n",
    "import datetime as dt\n",
    "def LogInit(function, model, parameters, localarg):\n",
    "    dataLabel='' \n",
    "    pw = ''\n",
    "    if localarg['pw'] is True:\n",
    "        pw = 'pw'\n",
    "    if localarg['dataLabel'] is not None:\n",
    "        dataLabel = localarg['dataLabel']\n",
    "    time = dt.datetime.now().strftime('%Y-%m-%d_%H-%M')            \n",
    "    parString = ''.join([num for num in parameters])\n",
    "    LOGFILENAME = '{}_{}_{}-{}-{}_{}_-{}_{}'.format(time ,function, model[0].upper(),\n",
    "                                            model[1],model[2],parString,dataLabel, pw)\n",
    "    RESULTLOG = '../logs/result_logger/'+LOGFILENAME\n",
    "    \n",
    "    MAINLOG = '../logs/log.txt'\n",
    "    output = '\\n\\nSTARTED  '+LOGFILENAME + '\\n\\targuments: '+str(localarg)\n",
    "    with open(MAINLOG, 'a') as f:\n",
    "        f.write(output)\n",
    "    f.close()\n",
    "    print(output)\n",
    "    return LOGFILENAME, MAINLOG, RESULTLOG\n",
    "    \n",
    "def LogWrap(MAINLOG, RESULTLOG, results):\n",
    "    \n",
    "    output=''\n",
    "    if type(results) is list:\n",
    "        for result in results:\n",
    "            output=output+'\\n'+result\n",
    "    else:\n",
    "        output = results\n",
    "    with open(RESULTLOG+'.txt', 'w') as f:\n",
    "        f.write(output)\n",
    "    f.close()\n",
    "    outputWrap = '\\n...FINISHED'\n",
    "    with open(MAINLOG, 'a') as f:\n",
    "        f.write(outputWrap)\n",
    "    print(outputWrap)\n",
    "    f.close()\n",
    "    \n",
    "                "
   ]
  },
  {
   "cell_type": "code",
   "execution_count": null,
   "metadata": {
    "collapsed": true
   },
   "outputs": [],
   "source": []
  }
 ],
 "metadata": {
  "kernelspec": {
   "display_name": "Python 3",
   "language": "python",
   "name": "python3"
  },
  "language_info": {
   "codemirror_mode": {
    "name": "ipython",
    "version": 3
   },
   "file_extension": ".py",
   "mimetype": "text/x-python",
   "name": "python",
   "nbconvert_exporter": "python",
   "pygments_lexer": "ipython3",
   "version": "3.6.0"
  }
 },
 "nbformat": 4,
 "nbformat_minor": 2
}
