{
 "cells": [
  {
   "cell_type": "code",
   "execution_count": 23,
   "metadata": {
    "collapsed": false
   },
   "outputs": [
    {
     "data": {
      "text/plain": [
       "{'coef0': 0}"
      ]
     },
     "execution_count": 23,
     "metadata": {},
     "output_type": "execute_result"
    }
   ],
   "source": [
    "import json\n",
    "json.loads('{\"coef0\":0}')"
   ]
  },
  {
   "cell_type": "code",
   "execution_count": 2,
   "metadata": {
    "collapsed": false
   },
   "outputs": [],
   "source": [
    "#%%writefile ../../src/data/data_utils.py\n",
    "# %load ../../src/data/data_utils.py\n",
    "# %%writefile ../../src/data/data_utils.py\n",
    "\n",
    "\"\"\"\n",
    "Author: Jim Clauwaert\n",
    "Created in the scope of my PhD\n",
    "\"\"\"\n",
    "\n",
    "\n",
    "import pandas as pd\n",
    "import numpy as np\n",
    "import itertools\n",
    "\n",
    "def CreatePairwiseRankData(dfDataset):\n",
    "    \n",
    "    \"\"\"Create pairwise ranked data from dataset. All possible combinations are included.\n",
    "    (see README for default dataset layout)\n",
    "    \n",
    "    Parameters\n",
    "    -----------\n",
    "    dfDataset : DataFrame\n",
    "        Dataframe containing at least 'ID', 'sequence', 'mean_score', '35boxstart' and '10boxstart'. \n",
    "        'mean_score_sd' is an optional column\n",
    "    Returns\n",
    "    --------\n",
    "    DF : Dataframe \n",
    "        Dataframe containing paired data with arguments found in original dataframe (subscripted with '_1' and '_2')\n",
    "        and rank. Rank is defined as 1 for samples in which 'mean_score_1' > 'mean_score_2' and -1 in other cases\n",
    "    \"\"\"\n",
    "    \n",
    "    sampleCount = dfDataset.shape[0]\n",
    "    \n",
    "    DF = pd.DataFrame(index=range(int(sampleCount*(sampleCount-1)/2)), \n",
    "                  columns=[])\n",
    "    \n",
    "    ZIP = list(itertools.combinations(dfDataset['ID'],2))\n",
    "\n",
    "    DF['ID_1'] = [item[0] for item in ZIP]\n",
    "    DF['ID_2'] = [item[1] for item in ZIP]\n",
    "\n",
    "    DF['sequence_1'] = [dfDataset[dfDataset['ID']==x]['sequence'].values[0] for x in DF['ID_1']]\n",
    "    DF['sequence_2'] = [dfDataset[dfDataset['ID']==x]['sequence'].values[0] for x in DF['ID_2']]\n",
    "\n",
    "    DF['mean_score_1'] = [dfDataset[dfDataset['ID']==x]['mean_score'].values[0] for x in DF['ID_1']]\n",
    "    DF['mean_score_2'] = [dfDataset[dfDataset['ID']==x]['mean_score'].values[0] for x in DF['ID_2']]\n",
    "    \n",
    "    if 'mean_score_sd' in dfDataset.columns:\n",
    "        DF['mean_score_sd_1'] = [dfDataset[dfDataset['ID']==x]['mean_score_sd'].values[0] for x in DF['ID_1']]\n",
    "        DF['mean_score_sd_2'] = [dfDataset[dfDataset['ID']==x]['mean_score_sd'].values[0] for x in DF['ID_2']]\n",
    "\n",
    "    DF['35boxstart_1'] = [dfDataset[dfDataset['ID']==x]['35boxstart'].values[0] for x in DF['ID_1']]\n",
    "    DF['35boxstart_2'] = [dfDataset[dfDataset['ID']==x]['35boxstart'].values[0] for x in DF['ID_2']]\n",
    "\n",
    "    DF['10boxstart_1'] = [dfDataset[dfDataset['ID']==x]['10boxstart'].values[0] for x in DF['ID_1']]\n",
    "    DF['10boxstart_2'] = [dfDataset[dfDataset['ID']==x]['10boxstart'].values[0] for x in DF['ID_2']]\n",
    "\n",
    "    DF['rank'] = [1 if x>(DF.iloc[i]['mean_score_2']) else -1 for i, x in enumerate(DF['mean_score_1']) ]\n",
    "    \n",
    "    return DF\n",
    "\n"
   ]
  },
  {
   "cell_type": "code",
   "execution_count": 16,
   "metadata": {
    "collapsed": false
   },
   "outputs": [],
   "source": [
    "dataset = pd.read_csv(\"../../data/external/.csv\")\n",
    "test = CreatePairwiseRankData(dataset)"
   ]
  },
  {
   "cell_type": "code",
   "execution_count": 17,
   "metadata": {
    "collapsed": false
   },
   "outputs": [
    {
     "data": {
      "text/plain": [
       "51"
      ]
     },
     "execution_count": 17,
     "metadata": {},
     "output_type": "execute_result"
    }
   ],
   "source": [
    "np.unique(test[['ID_1']].values).size"
   ]
  },
  {
   "cell_type": "code",
   "execution_count": 18,
   "metadata": {
    "collapsed": false
   },
   "outputs": [],
   "source": [
    "test.to_csv('pw_inbio_prom_lib.csv', index=False)"
   ]
  },
  {
   "cell_type": "code",
   "execution_count": 4,
   "metadata": {
    "collapsed": false
   },
   "outputs": [
    {
     "data": {
      "text/plain": [
       "False"
      ]
     },
     "execution_count": 4,
     "metadata": {},
     "output_type": "execute_result"
    }
   ],
   "source": [
    "'2' in test.columns"
   ]
  },
  {
   "cell_type": "code",
   "execution_count": 3,
   "metadata": {
    "collapsed": false
   },
   "outputs": [],
   "source": [
    "import matplotlib\n",
    "import numpy as np\n",
    "import math\n",
    "import itertools\n",
    "import sklearn\n",
    "import warnings\n",
    "import pandas as pd\n",
    "import sklearn.linear_model\n",
    "import matplotlib.pyplot as plt\n",
    "import warnings\n",
    "warnings.filterwarnings('ignore')\n",
    "%matplotlib inline\n"
   ]
  },
  {
   "cell_type": "code",
   "execution_count": null,
   "metadata": {
    "collapsed": true
   },
   "outputs": [],
   "source": []
  }
 ],
 "metadata": {
  "kernelspec": {
   "display_name": "Python 3",
   "language": "python",
   "name": "python3"
  },
  "language_info": {
   "codemirror_mode": {
    "name": "ipython",
    "version": 3
   },
   "file_extension": ".py",
   "mimetype": "text/x-python",
   "name": "python",
   "nbconvert_exporter": "python",
   "pygments_lexer": "ipython3",
   "version": "3.5.2"
  }
 },
 "nbformat": 4,
 "nbformat_minor": 2
}
